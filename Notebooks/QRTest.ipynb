{
 "cells": [
  {
   "cell_type": "code",
   "execution_count": 4,
   "id": "10953545-da3d-41f3-b8c9-5a1b9ddc7abb",
   "metadata": {},
   "outputs": [
    {
     "ename": "RuntimeError",
     "evalue": "Invalid target name ().",
     "output_type": "error",
     "traceback": [
      "\u001b[0;31m---------------------------------------------------------------------------\u001b[0m",
      "\u001b[0;31mRuntimeError\u001b[0m                              Traceback (most recent call last)",
      "Cell \u001b[0;32mIn[4], line 4\u001b[0m\n\u001b[1;32m      1\u001b[0m \u001b[38;5;28;01mimport\u001b[39;00m\u001b[38;5;250m \u001b[39m\u001b[38;5;21;01mcudaq\u001b[39;00m\n\u001b[1;32m      2\u001b[0m \u001b[38;5;28;01mimport\u001b[39;00m\u001b[38;5;250m \u001b[39m\u001b[38;5;21;01mnumpy\u001b[39;00m\u001b[38;5;250m \u001b[39m\u001b[38;5;28;01mas\u001b[39;00m\u001b[38;5;250m \u001b[39m\u001b[38;5;21;01mnp\u001b[39;00m\n\u001b[0;32m----> 4\u001b[0m \u001b[43mcudaq\u001b[49m\u001b[38;5;241;43m.\u001b[39;49m\u001b[43mset_target\u001b[49m\u001b[43m(\u001b[49m\u001b[38;5;124;43m\"\u001b[39;49m\u001b[38;5;124;43m\"\u001b[39;49m\u001b[43m)\u001b[49m\n\u001b[1;32m      6\u001b[0m num_of_qubits \u001b[38;5;241m=\u001b[39m \u001b[38;5;241m3\u001b[39m\n\u001b[1;32m      7\u001b[0m kernel \u001b[38;5;241m=\u001b[39m cudaq\u001b[38;5;241m.\u001b[39mmake_kernel()\n",
      "\u001b[0;31mRuntimeError\u001b[0m: Invalid target name ()."
     ]
    }
   ],
   "source": [
    "import cudaq\n",
    "import numpy as np\n",
    "\n",
    "cudaq.set_target(\"QuantumRingsLib\")\n",
    "\n",
    "num_of_qubits = 3\n",
    "kernel = cudaq.make_kernel()\n",
    "qubits = kernel.qalloc(num_of_qubits)\n",
    "\n",
    "kernel.x(qubits)\n",
    "kernel.h(qubits)\n",
    "\n",
    "print(cudaq.draw(kernel))\n",
    "\n",
    "state = cudaq.get_state(kernel)\n",
    "\n",
    "print(np.array(state))"
   ]
  },
  {
   "cell_type": "code",
   "execution_count": null,
   "id": "54911ab9-195e-4e3a-941c-8337551a794f",
   "metadata": {},
   "outputs": [],
   "source": []
  }
 ],
 "metadata": {
  "kernelspec": {
   "display_name": "Python 3 (ipykernel)",
   "language": "python",
   "name": "python3"
  },
  "language_info": {
   "codemirror_mode": {
    "name": "ipython",
    "version": 3
   },
   "file_extension": ".py",
   "mimetype": "text/x-python",
   "name": "python",
   "nbconvert_exporter": "python",
   "pygments_lexer": "ipython3",
   "version": "3.10.13"
  }
 },
 "nbformat": 4,
 "nbformat_minor": 5
}
